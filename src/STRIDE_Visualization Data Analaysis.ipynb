{
  "nbformat": 4,
  "nbformat_minor": 0,
  "metadata": {
    "colab": {
      "provenance": [],
      "collapsed_sections": [
        "dlvnL9IEGXLZ"
      ]
    },
    "kernelspec": {
      "name": "python3",
      "display_name": "Python 3"
    },
    "language_info": {
      "name": "python"
    }
  },
  "cells": [
    {
      "cell_type": "markdown",
      "source": [
        "# For Replication Purposes\n",
        "\n",
        "This notebook describes the analysis of the data from the STRIDE experiment performed at two universities, Netherlands and China.\n",
        "\n"
      ],
      "metadata": {
        "id": "xcMbgMiUpfym"
      }
    },
    {
      "cell_type": "markdown",
      "source": [
        "## Initialization"
      ],
      "metadata": {
        "id": "dlvnL9IEGXLZ"
      }
    },
    {
      "cell_type": "markdown",
      "source": [
        "Mounting Google Drive and import the experiment raw data.\n",
        "\n"
      ],
      "metadata": {
        "id": "fN-lsrtmeIft"
      }
    },
    {
      "cell_type": "markdown",
      "source": [
        "The steps described in this collab shows the data from one experiement, however, the same steps were followed in both analysis.\n",
        "\n",
        "The data was stored and accessed via google drive"
      ],
      "metadata": {
        "id": "ySQAygZOeQ8C"
      }
    },
    {
      "cell_type": "code",
      "execution_count": null,
      "metadata": {
        "id": "vz-jH8T_Uk2c",
        "colab": {
          "base_uri": "https://localhost:8080/"
        },
        "outputId": "e5f52d2f-a086-4a0d-922a-d1d22c5a7185"
      },
      "outputs": [
        {
          "output_type": "stream",
          "name": "stdout",
          "text": [
            "Mounted at /content/drive\n"
          ]
        }
      ],
      "source": [
        "from google.colab import drive\n",
        "drive.mount(\"DRIVE DIRECTORY\")"
      ]
    },
    {
      "cell_type": "code",
      "source": [
        "cd \"ADD DIRECTORY TO CORRECT FOLDER\""
      ],
      "metadata": {
        "id": "g4r2Ubx1uUGp"
      },
      "execution_count": null,
      "outputs": []
    },
    {
      "cell_type": "markdown",
      "source": [
        "Import the excel file into a pandas dataframe."
      ],
      "metadata": {
        "id": "OIpXrNg8dM2G"
      }
    },
    {
      "cell_type": "code",
      "source": [
        "import pandas as pd\n",
        "  \n",
        "df = pd.read_excel(\"FileName.xlsx\")\n",
        "\n",
        "print(df.head())"
      ],
      "metadata": {
        "id": "9TQvcvKtdMq5"
      },
      "execution_count": null,
      "outputs": []
    },
    {
      "cell_type": "markdown",
      "source": [
        "Select only relevant columns (by index). The selected columns are Duration, Group, and group.\n"
      ],
      "metadata": {
        "id": "5fLozpP1iAey"
      }
    },
    {
      "cell_type": "code",
      "source": [
        "# Select relevant columns\n",
        "df1 = df.iloc[:, [0, 1, 2]].join(df.iloc[:, 3:13])\n",
        "\n",
        "# Rename columns\n",
        "df1.columns.values[0] = \"Group\"\n",
        "df1.columns.values[1] = \"Student_ID\"\n",
        "df1.columns.values[2] = \"Duration\"\n",
        "\n",
        "#Convert the Student_ID column to int\n",
        "df1 = df1.fillna(0)\n",
        "df1[\"Student_ID\"].astype(int)"
      ],
      "metadata": {
        "id": "6kfHFrRZiBSl"
      },
      "execution_count": null,
      "outputs": []
    },
    {
      "cell_type": "markdown",
      "source": [
        "Concatinate the above columns with the list of threats, grouped by treatment group\n",
        "\n",
        "For Group A."
      ],
      "metadata": {
        "id": "vOjiov5NpZtw"
      }
    },
    {
      "cell_type": "code",
      "source": [
        "# Group A\n",
        "df_A = df1[(df1[\"Group\"] == \"Group A\")]\n",
        "df_A = df_A.iloc[:, 0:14].copy()\n",
        "\n",
        "# Rename columns\n",
        "df_A.columns.values[3] = \"Threat_1\"\n",
        "df_A.columns.values[4] = \"Threat_2\"\n",
        "df_A.columns.values[5] = \"Threat_3\"\n",
        "df_A.columns.values[6] = \"Threat_4\"\n",
        "df_A.columns.values[7] = \"Threat_5\"\n",
        "df_A.columns.values[8] = \"Threat_6\"\n",
        "df_A.columns.values[9] = \"Threat_7\"\n",
        "df_A.columns.values[10] = \"Threat_8\"\n",
        "df_A.columns.values[11] = \"Threat_9\"\n",
        "df_A.columns.values[12] = \"Threat_10\"\n",
        "\n",
        "df_A.head()"
      ],
      "metadata": {
        "id": "Llu0PzA7hN3X"
      },
      "execution_count": null,
      "outputs": []
    },
    {
      "cell_type": "markdown",
      "source": [
        "For Group B."
      ],
      "metadata": {
        "id": "EwAiRy7opbLh"
      }
    },
    {
      "cell_type": "code",
      "source": [
        "# Group B\n",
        "df_B = df1[(df1[\"Group\"] == \"Group B\")]\n",
        "df_B = df_B.iloc[:, 0:13].copy()\n",
        "\n",
        "# Rename columns\n",
        "df_B.columns.values[3] = \"Threat_1\"\n",
        "df_B.columns.values[4] = \"Threat_2\"\n",
        "df_B.columns.values[5] = \"Threat_3\"\n",
        "df_B.columns.values[6] = \"Threat_4\"\n",
        "df_B.columns.values[7] = \"Threat_5\"\n",
        "df_B.columns.values[8] = \"Threat_6\"\n",
        "df_B.columns.values[9] = \"Threat_7\"\n",
        "df_B.columns.values[10] = \"Threat_8\"\n",
        "df_B.columns.values[11] = \"Threat_9\"\n",
        "df_B.columns.values[12] = \"Threat_10\"\n",
        "\n",
        "df_B.head()"
      ],
      "metadata": {
        "id": "cF4cBia5jvh0"
      },
      "execution_count": null,
      "outputs": []
    },
    {
      "cell_type": "markdown",
      "source": [
        "## Analyzing Group performance\n",
        "\n",
        "For Group A\n"
      ],
      "metadata": {
        "id": "8pfItmbCiZiO"
      }
    },
    {
      "cell_type": "markdown",
      "source": [
        "Number of students belonging to Group A."
      ],
      "metadata": {
        "id": "JJ8sbyyNqhPy"
      }
    },
    {
      "cell_type": "code",
      "source": [
        "df_A.shape[0]"
      ],
      "metadata": {
        "id": "kQbKkoaxqCul"
      },
      "execution_count": null,
      "outputs": []
    },
    {
      "cell_type": "markdown",
      "source": [
        "Average time (in minutes) to complete the experiments for (Group A) students."
      ],
      "metadata": {
        "id": "v9qQedbXqhKE"
      }
    },
    {
      "cell_type": "code",
      "source": [
        "df_A[\"Duration\"].mean() / 60"
      ],
      "metadata": {
        "id": "tJTc4XcWqqNw"
      },
      "execution_count": null,
      "outputs": []
    },
    {
      "cell_type": "markdown",
      "source": [
        "Slowest student:"
      ],
      "metadata": {
        "id": "TSLjNkyKtTA6"
      }
    },
    {
      "cell_type": "code",
      "source": [
        "df_A[\"Duration\"].max() / 60"
      ],
      "metadata": {
        "id": "OfLpXmJ0tTjj"
      },
      "execution_count": null,
      "outputs": []
    },
    {
      "cell_type": "markdown",
      "source": [
        "Fastest student:"
      ],
      "metadata": {
        "id": "K76MuavutT3n"
      }
    },
    {
      "cell_type": "code",
      "source": [
        "df_A[\"Duration\"].min() / 60"
      ],
      "metadata": {
        "id": "Bfpw9XActWD-"
      },
      "execution_count": null,
      "outputs": []
    },
    {
      "cell_type": "markdown",
      "source": [
        "We checked the rate of:\n",
        "\n",
        "\n",
        "1.   TP- correctly recognised real threats \n",
        "2.   TN- correctly recognised fabricated/fake threats (TN)\n",
        "3.   FP- threats recognised as real by the participants but are actually   fabricated\n",
        "4.   FN- threats recognised as fabricated by the participants but are actually real\n",
        "\n",
        "\n",
        "\n",
        "\n",
        "In Group A "
      ],
      "metadata": {
        "id": "LNkFCp--tJFI"
      }
    },
    {
      "cell_type": "code",
      "source": [
        "for index, row in df_A.iterrows():\n",
        "  print(row[3:14])\n",
        "\n",
        "# real threat: 1, fake threat: 2\n",
        "threat_type = [1, 2, 1, 1, 2, 2, 2, 1, 2, 1]\n",
        "\n",
        "precision_list_A = []\n",
        "recall_list_A = []\n",
        "\n",
        "TP_list_A = []\n",
        "FP_list_A = []\n",
        "FN_list_A = []\n",
        "TN_list_A = []\n",
        "\n",
        "for index, row in df_A.iterrows():\n",
        "  TP = 0 # True Positive - Real threats being selected\n",
        "  FN = 0 # False Negatives - Real threats not being selected\n",
        "  FP = 0 # False Positive - Fake threats being selected\n",
        "  TN = 0 # True Negative - Fake threats not being selected\n",
        "  for answer, result in zip(threat_type, row[3:14]):\n",
        "    if answer == 1:\n",
        "      if result == 1:\n",
        "        TP += 1\n",
        "      else:\n",
        "        FN += 1\n",
        "    else:\n",
        "      if result == 2:\n",
        "        TN += 1\n",
        "      else:\n",
        "        FP += 1\n",
        "  \n",
        "  TP_list_A.append(TP)\n",
        "  FN_list_A.append(FN)\n",
        "  TN_list_A.append(TN)\n",
        "  FP_list_A.append(FP)\n",
        "  precision_list_A.append(TP / (TP + FP))\n",
        "  recall_list_A.append(TP / (TP + FN))\n",
        "\n",
        "precision_list_A = [ round(elem, 2) for elem in precision_list_A ]\n",
        "recall_list_A = [ round(elem, 2) for elem in recall_list_A ]\n",
        "TP_list_A = [ round(elem, 2) for elem in TP_list_A ]\n",
        "FP_list_A = [ round(elem, 2) for elem in FP_list_A ]\n",
        "FN_list_A = [ round(elem, 2) for elem in FN_list_A ]\n",
        "TN_list_A = [ round(elem, 2) for elem in TN_list_A ]\n",
        "# TP_TN_list_A    is basically   TP + TN to create a new vector\n",
        "TP_TN_list_A = [i + j for i, j in zip(TP_list_A, TN_list_A)]\n",
        "\n",
        "\n",
        "TP_avg_A = sum(TP_list_A) / len(TP_list_A)\n",
        "FP_avg_A = sum(FP_list_A) / len(FP_list_A)\n",
        "FN_avg_A = sum(FN_list_A) / len(FN_list_A)\n",
        "TN_avg_A = sum(TN_list_A) / len(TN_list_A)\n",
        "TP_TN_Avg_A = sum(TP_TN_list_A) / len(TP_TN_list_A) # TP_TN_Avg = TP_avg + TN_avg\n",
        "\n",
        "print(TP_list_A)\n",
        "print(TN_list_A)\n",
        "print(TP_TN_list_A)\n",
        "print(TP_avg_A)\n",
        "print(FN_avg_A)\n",
        "print(TN_avg_A)\n",
        "print(FP_avg_A)\n",
        "print(TP_TN_Avg_A)\n"
      ],
      "metadata": {
        "id": "ljYYViwI11_v"
      },
      "execution_count": null,
      "outputs": []
    },
    {
      "cell_type": "markdown",
      "source": [
        "Performance Bar Plot for group A"
      ],
      "metadata": {
        "id": "FS_hgfc9tAHC"
      }
    },
    {
      "cell_type": "code",
      "source": [
        "import matplotlib.pyplot as plt\n",
        "\n",
        "metrics = [\"TP\", \"FN\", \"TN\", \"FP\"]\n",
        "means = [TP_avg_A, FN_avg_A, TN_avg_A, FP_avg_A]\n",
        "\n",
        "fig = plt.figure(figsize = (6, 5))\n",
        "\n",
        "#  Bar plot style\n",
        "plt.bar(metrics, means, color ='grey',\n",
        "        width = 0.666)\n",
        "plt.xlabel(\"Metrics of success\")\n",
        "plt.ylabel(\"Mean of metric values\")\n",
        "plt.title(\"Performance of Group A\")\n",
        "plt.show()"
      ],
      "metadata": {
        "id": "q7sWynvYs_ic"
      },
      "execution_count": null,
      "outputs": []
    },
    {
      "cell_type": "markdown",
      "source": [
        "**Checked how many participants guessed the actual/real threats correctly and incorrectly**"
      ],
      "metadata": {
        "id": "BHa18xSilf1W"
      }
    },
    {
      "cell_type": "code",
      "source": [
        "# Select the 5 real threats\n",
        "df_A_real = df_A.iloc[:, [3, 5, 6, 10, 12]]\n",
        "# print(df_real)\n",
        "\n",
        "\n",
        "# Count the students that guessed each threat\n",
        "print(df_A_real[df_A_real == 1].count()) # correct, real as real\n",
        "print(df_A_real[df_A_real == 2].count()) # wrong, fake as real"
      ],
      "metadata": {
        "id": "R8xuBmYquNGj"
      },
      "execution_count": null,
      "outputs": []
    },
    {
      "cell_type": "markdown",
      "source": [
        "Bar Chart representing the number of correct and wrong answers for each **real threat** for Group A."
      ],
      "metadata": {
        "id": "S0I3QRVa__jJ"
      }
    },
    {
      "cell_type": "code",
      "source": [
        "# https://colab.research.google.com/notebooks/charts.ipynb#scrollTo=bZv4MenQpYOF\n",
        "\n",
        "import matplotlib.pyplot as plt\n",
        "\n",
        "x1 = [\"1\", \"3\", \"4\", \"8\", \"10\"] #real threats\n",
        "y1 = [24, 16, 23, 23, 24] # students who guessed them as real\n",
        "\n",
        "x2 = [\"1\", \"3\", \"4\", \"8\", \"10\"] #real threats\n",
        "y2 = [1, 9, 2, 2, 1] # students who guessed them as fake\n",
        "\n",
        "\n",
        "plt.bar(x1, y1, label=\"Correct Answers\", color='g', width = 0.666)\n",
        "plt.bar(x2, y2, bottom=y1, label=\"Wrong Answers\", color='r', width = 0.666)\n",
        "plt.plot()\n",
        "\n",
        "plt.xlabel(\"Threat ID\")\n",
        "plt.ylabel(\"Number of Students\")\n",
        "plt.title(\"Real Threats Bar Plot from Group A\")\n",
        "plt.legend(bbox_to_anchor=(1.02, 1), loc='upper left', borderaxespad=0)\n",
        "plt.show()"
      ],
      "metadata": {
        "id": "55tVlHwM_-64"
      },
      "execution_count": null,
      "outputs": []
    },
    {
      "cell_type": "markdown",
      "source": [
        "Repeat the same process for the fake threats."
      ],
      "metadata": {
        "id": "1Web2ZHWFu0r"
      }
    },
    {
      "cell_type": "code",
      "source": [
        "# Select the 5 fake threats\n",
        "df_A_fake  = df_A.iloc[:, [4, 7, 8, 9, 11]]\n",
        "\n",
        "# Count the students that guessed each threat\n",
        "print(df_A_fake[df_A_fake == 2].count()) # correct, fake as fake\n",
        "print(df_A_fake[df_A_fake == 1].count()) # wrong, fake as real"
      ],
      "metadata": {
        "id": "SzYuhCopFvNJ"
      },
      "execution_count": null,
      "outputs": []
    },
    {
      "cell_type": "markdown",
      "source": [
        "Bar Chart representing the number of correct and wrong answers for each **fake threat** for Group A."
      ],
      "metadata": {
        "id": "-HNREuCYHGa5"
      }
    },
    {
      "cell_type": "code",
      "source": [
        "import matplotlib.pyplot as plt\n",
        "\n",
        "x1 = [\"2\", \"5\", \"6\", \"7\", \"9\"] #Fake threats\n",
        "y1 = [5, 16, 17, 14, 9] # students who guessed them as fake\n",
        "\n",
        "x2 = [\"2\", \"5\", \"6\", \"7\", \"9\"] #Fake threats\n",
        "y2 = [20, 9, 8, 11, 16] # students who guessed them as real\n",
        "\n",
        "plt.bar(x1, y1, label=\"Correct Answers\", color='g', width = 0.666)\n",
        "plt.bar(x2, y2, bottom=y1, label=\"Wrong Answers\", color='r', width = 0.666)\n",
        "plt.plot()\n",
        "\n",
        "plt.xlabel(\"Threat ID\")\n",
        "plt.ylabel(\"Number of Students\")\n",
        "plt.title(\"Fake Threats Bar Plot from Group A\")\n",
        "plt.legend(bbox_to_anchor=(1.02, 1), loc='upper left', borderaxespad=0)\n",
        "plt.show()"
      ],
      "metadata": {
        "id": "bpddWRJdHGxB"
      },
      "execution_count": null,
      "outputs": []
    },
    {
      "cell_type": "markdown",
      "source": [
        "## Analyze Group B performance"
      ],
      "metadata": {
        "id": "S11AB29Pia2m"
      }
    },
    {
      "cell_type": "markdown",
      "source": [
        "Number of students belonging to Group B."
      ],
      "metadata": {
        "id": "-WX5WwuWq6Rr"
      }
    },
    {
      "cell_type": "code",
      "source": [
        "df_B.shape[0]"
      ],
      "metadata": {
        "id": "GhhMMezSibMw"
      },
      "execution_count": null,
      "outputs": []
    },
    {
      "cell_type": "markdown",
      "source": [
        "Average time (in minutes) to complete the experiments for (Group B) students. The average time in Group A is 16.58min"
      ],
      "metadata": {
        "id": "oW5EJjiwNaEv"
      }
    },
    {
      "cell_type": "code",
      "source": [
        "df_B[\"Duration\"].mean() / 60"
      ],
      "metadata": {
        "id": "3fLZo8wUNnen"
      },
      "execution_count": null,
      "outputs": []
    },
    {
      "cell_type": "markdown",
      "source": [
        "Slowest student:"
      ],
      "metadata": {
        "id": "0yKiYyGiNnzX"
      }
    },
    {
      "cell_type": "code",
      "source": [
        "df_B[\"Duration\"].max() / 60"
      ],
      "metadata": {
        "id": "_b9BkcvpNoFB"
      },
      "execution_count": null,
      "outputs": []
    },
    {
      "cell_type": "markdown",
      "source": [
        "Fastest student:"
      ],
      "metadata": {
        "id": "4mSlYYpVNo8S"
      }
    },
    {
      "cell_type": "code",
      "source": [
        "df_B[\"Duration\"].min() / 60"
      ],
      "metadata": {
        "id": "rj21f4fDNpMo"
      },
      "execution_count": null,
      "outputs": []
    },
    {
      "cell_type": "markdown",
      "source": [
        "We checked the rate of:\n",
        "\n",
        "\n",
        "1.   TP- correctly recognised real threats \n",
        "2.   TN- correctly recognised fabricated/fake threats (TN)\n",
        "3.   FP- threats recognised as real by the participants but are actually   fabricated\n",
        "4.   FN- threats recognised as fabricated by the participants but are actually real\n",
        "\n",
        "\n",
        "\n",
        "\n",
        "In Group B"
      ],
      "metadata": {
        "id": "p8Aomdw8tNn2"
      }
    },
    {
      "cell_type": "code",
      "source": [
        "# real threat: 1, fake threat: 2\n",
        "threat_type = [1, 2, 1, 1, 2, 2, 2, 1, 2, 1]\n",
        "\n",
        "precision_list_B = []\n",
        "recall_list_B = []\n",
        "\n",
        "TP_list_B = []\n",
        "FP_list_B = []\n",
        "FN_list_B = []\n",
        "TN_list_B = []\n",
        "\n",
        "for index, row in df_B.iterrows():\n",
        "  TP = 0 # True Positive - Real threats being selected\n",
        "  FN = 0 # False Negatives - Real threats not being selected\n",
        "  FP = 0 # False Positive - Fake threats being selected\n",
        "  TN = 0 # True Negative - Fake threats not being selected\n",
        "  for answer, result in zip(threat_type, row[3:14]):\n",
        "    if answer == 1:\n",
        "      if result == 1:\n",
        "        TP += 1\n",
        "      else:\n",
        "        FN += 1\n",
        "    else:\n",
        "      if result == 2:\n",
        "        TN += 1\n",
        "      else:\n",
        "        FP += 1\n",
        "  \n",
        "  TP_list_B.append(TP)\n",
        "  FN_list_B.append(FN)\n",
        "  TN_list_B.append(TN)\n",
        "  FP_list_B.append(FP)\n",
        "  precision_list_B.append(TP / (TP + FP))\n",
        "  recall_list_B.append(TP / (TP + FN))\n",
        "\n",
        "# precision_list_B = [ round(elem, 2) for elem in precision_list_B ]\n",
        "# recall_list_B = [ round(elem, 2) for elem in recall_list_B ]\n",
        "TP_list_B = [ round(elem, 2) for elem in TP_list_B ]\n",
        "FP_list_B = [ round(elem, 2) for elem in FP_list_B ]\n",
        "FN_list_B = [ round(elem, 2) for elem in FN_list_B ]\n",
        "TN_list_B = [ round(elem, 2) for elem in TN_list_B ]\n",
        "# TP_TN_list_A    is basically TP+TN vector\n",
        "TP_TN_list_B = [i + j for i, j in zip(TP_list_B, TN_list_B)]\n",
        "\n",
        "\n",
        "TP_avg_B = sum(TP_list_B) / len(TP_list_B)\n",
        "FP_avg_B = sum(FP_list_B) / len(FP_list_B)\n",
        "FN_avg_B = sum(FN_list_B) / len(FN_list_B)\n",
        "TN_avg_B = sum(TN_list_B) / len(TN_list_B)\n",
        "TP_TN_Avg_B = sum(TP_TN_list_B) / len(TP_TN_list_B) \n",
        "\n",
        "print(TP_list_B)\n",
        "print(TN_list_B)\n",
        "print(TP_TN_list_B)\n",
        "print(TP_avg_B)\n",
        "print(FN_avg_B)\n",
        "print(TN_avg_B)\n",
        "print(FP_avg_B)\n",
        "print(TP_TN_Avg_B)\n",
        "print(TP_TN_list_B)"
      ],
      "metadata": {
        "id": "2W1nNNefv5Cv"
      },
      "execution_count": null,
      "outputs": []
    },
    {
      "cell_type": "code",
      "source": [
        "print(precision_list_B)\n",
        "print(recall_list_B)\n",
        "\n",
        "print(sum(precision_list_B)/len(precision_list_B))\n",
        "print(sum(recall_list_B)/len(recall_list_B))"
      ],
      "metadata": {
        "id": "R5LzoqoitVPj"
      },
      "execution_count": null,
      "outputs": []
    },
    {
      "cell_type": "markdown",
      "source": [
        "Performance Bar plot for Group B"
      ],
      "metadata": {
        "id": "4c52jOSNtVnE"
      }
    },
    {
      "cell_type": "code",
      "source": [
        "import matplotlib.pyplot as plt\n",
        "\n",
        "metrics = [\"TP\", \"FN\", \"TN\", \"FP\"]\n",
        "means = [TP_avg_B, FN_avg_B, TN_avg_B, FP_avg_B]\n",
        "\n",
        "fig = plt.figure(figsize = (6, 5))\n",
        "\n",
        "#  Bar plot style\n",
        "plt.bar(metrics, means, color ='grey', width = 0.666)\n",
        "plt.xlabel(\"Metrics of success\")\n",
        "plt.ylabel(\"Mean of metric values\")\n",
        "plt.title(\"Performance of Group B\")\n",
        "plt.show()"
      ],
      "metadata": {
        "id": "hOPDg_ZTtV7o"
      },
      "execution_count": null,
      "outputs": []
    },
    {
      "cell_type": "markdown",
      "source": [
        "**Checked how many participants guessed the actual/real threats correctly and incorrectly**"
      ],
      "metadata": {
        "id": "Hp8DG0YVnqFP"
      }
    },
    {
      "cell_type": "code",
      "source": [
        "# Select the 5 real threats\n",
        "df_B_real = df_B.iloc[:, [3, 5, 6, 10, 12]]\n",
        "\n",
        "# print(df_real)\n",
        "# Count the students that guessed each threat\n",
        "print(df_B_real[df_B_real == 1].count()) # correct, real as real\n",
        "print(df_B_real[df_B_real == 2].count()) # wrong, fake as real"
      ],
      "metadata": {
        "id": "QUOhgihxOnq0"
      },
      "execution_count": null,
      "outputs": []
    },
    {
      "cell_type": "markdown",
      "source": [
        "Bar Chart representing the number of correct and wrong answers for each **real threat** for Group B."
      ],
      "metadata": {
        "id": "QizwIWRrQ2jk"
      }
    },
    {
      "cell_type": "code",
      "source": [
        "import matplotlib.pyplot as plt\n",
        "\n",
        "x1 = [\"1\", \"3\", \"4\", \"8\", \"10\"]\n",
        "y1 = [21, 18, 22, 22, 24]\n",
        "\n",
        "x2 = [\"1\", \"3\", \"4\", \"8\", \"10\"]\n",
        "y2 = [4, 7, 3, 3, 1]\n",
        "\n",
        "plt.bar(x1, y1, label=\"Correct Answers\", color='g', width = 0.666)\n",
        "plt.bar(x2, y2, bottom=y1, label=\"Wrong Answers\", color='r', width = 0.666)\n",
        "plt.plot()\n",
        "\n",
        "plt.xlabel(\"Threat ID\")\n",
        "plt.ylabel(\"Number of Students\")\n",
        "plt.title(\"Real Threats Bar Plot from Group B\")\n",
        "plt.legend(bbox_to_anchor=(1.02, 1), loc='upper left', borderaxespad=0)\n",
        "plt.show()"
      ],
      "metadata": {
        "id": "8FfkDstsOoOj"
      },
      "execution_count": null,
      "outputs": []
    },
    {
      "cell_type": "code",
      "source": [
        "# the students guessed all five real threats\n",
        "df_B_real_all_correct = df_B_real[df_B_real != 2].dropna()\n",
        "print(df_B_real_all_correct.shape[0])\n",
        "print(df_B_real_all_correct.index) # showing the student index"
      ],
      "metadata": {
        "id": "gdnFXyLxR1st"
      },
      "execution_count": null,
      "outputs": []
    },
    {
      "cell_type": "markdown",
      "source": [
        "Repeat the same process for the fake threats."
      ],
      "metadata": {
        "id": "2mXaUID8TXss"
      }
    },
    {
      "cell_type": "code",
      "source": [
        "# Select the 5 fake threats\n",
        "df_B_fake  = df_B.iloc[:, [4, 7, 8, 9, 11]]\n",
        "\n",
        "# Count the students that guessed each threat\n",
        "print(df_B_fake[df_B_fake == 2].count()) # correct, fake as fake\n",
        "print(df_B_fake[df_B_fake == 1].count()) # wrong, real as fake\n"
      ],
      "metadata": {
        "id": "OVMSpwPcTXd2"
      },
      "execution_count": null,
      "outputs": []
    },
    {
      "cell_type": "markdown",
      "source": [
        "Bar Chart representing the number of correct and wrong answers for each **fake threat** for Group B."
      ],
      "metadata": {
        "id": "RWyonLejT8JW"
      }
    },
    {
      "cell_type": "code",
      "source": [
        "import matplotlib.pyplot as plt\n",
        "\n",
        "x1 = [\"2\", \"5\", \"6\", \"7\", \"9\"]\n",
        "y1 = [4, 16, 19, 15, 13]\n",
        "\n",
        "x2 = [\"2\", \"5\", \"6\", \"7\", \"9\"]\n",
        "y2 = [21, 9, 6, 10, 12]\n",
        "\n",
        "plt.bar(x1, y1, label=\"Correct Answers\", color='g', width = 0.666)\n",
        "plt.bar(x2, y2, bottom=y1, label=\"Wrong Answers\", color='r', width = 0.666)\n",
        "plt.plot()\n",
        "\n",
        "plt.xlabel(\"Threat ID\")\n",
        "plt.ylabel(\"Number of Students\")\n",
        "plt.title(\"Fake Threats Bar Plot from Group B\")\n",
        "plt.legend(bbox_to_anchor=(1.02, 1), loc='upper left', borderaxespad=0)\n",
        "plt.show()"
      ],
      "metadata": {
        "id": "Dc3OAYTnT8cX"
      },
      "execution_count": null,
      "outputs": []
    },
    {
      "cell_type": "code",
      "source": [
        "# the students guessed all five fake threats\n",
        "df_B_fake_all_correct = df_B_fake[df_B_fake != 1].dropna()\n",
        "print(df_B_fake_all_correct.shape[0])\n",
        "print(df_B_fake_all_correct.index) # showing the student index\n",
        "\n",
        "df_B[df_B != 2].iloc[df_B_fake_all_correct.index - df_A.shape[0], :]"
      ],
      "metadata": {
        "id": "c1p5In_c2Xq_"
      },
      "execution_count": null,
      "outputs": []
    },
    {
      "cell_type": "markdown",
      "source": [
        "## Comparison of the two groups"
      ],
      "metadata": {
        "id": "Y5w6twIirBnv"
      }
    },
    {
      "cell_type": "markdown",
      "source": [
        "Box plot for Group A and Group B of Precision and Recall"
      ],
      "metadata": {
        "id": "Yl83ue65tl76"
      }
    },
    {
      "cell_type": "code",
      "source": [
        "import matplotlib.pyplot as plt\n",
        "import warnings\n",
        "import numpy as np\n",
        "warnings.filterwarnings(\"ignore\", category=np.VisibleDeprecationWarning) \n",
        "\n",
        "print(precision_list_A)\n",
        "print(precision_list_B)\n",
        "\n",
        "print(recall_list_A)\n",
        "print(recall_list_B)\n",
        " \n",
        "box_plot_data=[precision_list_A, precision_list_B, recall_list_A, recall_list_B]\n",
        "\n",
        "plt.boxplot(box_plot_data, patch_artist=True, labels=['P(Group A)','P(Group B)','R(Group A)','R(Group B)'])\n",
        "plt.show()"
      ],
      "metadata": {
        "id": "Sic1Sjn0tmNI"
      },
      "execution_count": null,
      "outputs": []
    },
    {
      "cell_type": "code",
      "source": [
        "print(\"==== Group A  TP ====\")\n",
        "print(pd.Series(TP_list_A).describe())\n",
        "print(\"==== Group A  TN ====\")\n",
        "print(pd.Series(TN_list_A).describe())\n",
        "print(\"==== Group B  TP ====\")\n",
        "print(pd.Series(TP_list_B).describe())\n",
        "print(\"==== Group B  TN ====\")\n",
        "print(pd.Series(TN_list_B).describe())\n",
        "\n",
        "print(\"\\n\\n==== Group A  TP+TN ====\")\n",
        "print(pd.Series(TP_TN_list_A).describe())\n",
        "\n",
        "print(\"==== Group B  TP+TN ====\")\n",
        "print(pd.Series(TP_TN_list_B).describe())"
      ],
      "metadata": {
        "id": "vaMZQuaw-SWa"
      },
      "execution_count": null,
      "outputs": []
    },
    {
      "cell_type": "markdown",
      "source": [
        "**Box plot of TP and TN of both groups** "
      ],
      "metadata": {
        "id": "Luz5oINHpBUA"
      }
    },
    {
      "cell_type": "code",
      "source": [
        "import matplotlib.pyplot as plt\n",
        "import warnings\n",
        "import numpy as np\n",
        "warnings.filterwarnings(\"ignore\", category=np.VisibleDeprecationWarning) \n",
        "\n",
        "print(TP_list_A)\n",
        "print(TP_list_B)\n",
        "\n",
        "print(TN_list_A)\n",
        "print(TN_list_B)\n",
        " \n",
        "box_plot_data=[TP_list_A, TP_list_B, TN_list_A, TN_list_B]\n",
        "\n",
        "plt.boxplot(box_plot_data, patch_artist=True, labels=['TP(Group A)','TP(Group B)','TN(Group A)','TN(Group B)'])\n",
        "plt.show()"
      ],
      "metadata": {
        "id": "GuRnfLo382o4"
      },
      "execution_count": null,
      "outputs": []
    },
    {
      "cell_type": "markdown",
      "source": [
        "# **Perfromance of Groups with TP, TN, TP+TN vector**"
      ],
      "metadata": {
        "id": "092fvN-s4p-X"
      }
    },
    {
      "cell_type": "code",
      "source": [
        "#performance of group A \n",
        "\n",
        "import matplotlib.pyplot as plt\n",
        "import warnings\n",
        "import numpy as np\n",
        "from google.colab import files\n",
        "\n",
        "warnings.filterwarnings(\"ignore\", category=np.VisibleDeprecationWarning) \n",
        "\n",
        "print(TP_list_A)\n",
        "print(TN_list_A)\n",
        "print(TP_TN_list_A)\n",
        "\n",
        " \n",
        "box_plot_data=[TP_list_A, TN_list_A, TP_TN_list_A]\n",
        "\n",
        "fig = plt.figure()\n",
        "plt.boxplot(box_plot_data, patch_artist=True, labels=['TP(Group A)','TN(Group A)', 'TP+TN(Group A)'])\n",
        "plt.title('Group A Performance')\n",
        "plt.axvline(x = 2.5, color = 'b', linestyle='--')\n",
        "plt.ylim(-1,11)\n",
        "\n",
        "# plt.figure(figsize=(0.5,0.5))\n",
        "\n",
        "# fig.savefig('CN Group B performance with TP+TN.jpg', bbox_inches='tight', dpi=250)\n",
        "# files.download('CN Group B performance with TP+TN.jpg')\n",
        "plt.show()"
      ],
      "metadata": {
        "id": "bm-KbCCP4wOH"
      },
      "execution_count": null,
      "outputs": []
    },
    {
      "cell_type": "code",
      "source": [
        "#performance of group B \n",
        "\n",
        "import matplotlib.pyplot as plt\n",
        "import warnings\n",
        "import numpy as np\n",
        "from google.colab import files\n",
        "\n",
        "warnings.filterwarnings(\"ignore\", category=np.VisibleDeprecationWarning) \n",
        "\n",
        "print(TP_list_B)\n",
        "print(TN_list_B)\n",
        "print(TP_TN_list_B)\n",
        "\n",
        " \n",
        "box_plot_data=[TP_list_B, TN_list_B, TP_TN_list_B]\n",
        "\n",
        "fig = plt.figure()\n",
        "plt.boxplot(box_plot_data, patch_artist=True, labels=['TP(Group B)','TN(Group B)', 'TP+TN(Group B)'])\n",
        "plt.title('Group B Performance')\n",
        "plt.axvline(x = 2.5, color = 'b', linestyle='--')\n",
        "\n",
        "\n",
        "plt.ylim(-1,11)\n",
        "# fig.savefig('CN Group B performance with TP+TN.jpg', bbox_inches='tight', dpi=250)\n",
        "# files.download('CN Group B performance with TP+TN.jpg')\n",
        "plt.show()\n"
      ],
      "metadata": {
        "id": "-6cdzgo24wQu"
      },
      "execution_count": null,
      "outputs": []
    },
    {
      "cell_type": "code",
      "source": [
        "plt.figure(figsize=(4,3))\n",
        "\n",
        "box_plot_data=[precision_list_A, precision_list_B, recall_list_A, recall_list_B]\n",
        "\n",
        "c = \"grey\"\n",
        "plt.boxplot(box_plot_data, patch_artist=True,\n",
        "            boxprops=dict(facecolor=c, color=c),\n",
        "            capprops=dict(color=c),\n",
        "            whiskerprops=dict(color=c),\n",
        "            flierprops=dict(color=c, markeredgecolor=c),\n",
        "            medianprops=dict(color=\"black\"),\n",
        "            labels=['P(Group A)','P(Group B)','R(Group A)','R(Group B)']\n",
        "            )\n",
        "\n",
        "plt.show()"
      ],
      "metadata": {
        "id": "1S2vaw14tuTn"
      },
      "execution_count": null,
      "outputs": []
    },
    {
      "cell_type": "markdown",
      "source": [
        "Merge the two groups dataframes."
      ],
      "metadata": {
        "id": "OgYzbEN4rJ2D"
      }
    },
    {
      "cell_type": "code",
      "source": [
        "df_all = df_A.merge(df_B, how='outer')\n",
        "\n",
        "# df_all"
      ],
      "metadata": {
        "id": "D4jc2E2KrMwB"
      },
      "execution_count": null,
      "outputs": []
    },
    {
      "cell_type": "markdown",
      "source": [
        "Total number of students:"
      ],
      "metadata": {
        "id": "avYdpik7rGBj"
      }
    },
    {
      "cell_type": "code",
      "source": [
        "df_all.shape[0]"
      ],
      "metadata": {
        "id": "X4j1TcOuVqF2"
      },
      "execution_count": null,
      "outputs": []
    },
    {
      "cell_type": "markdown",
      "source": [
        "Group A performance on real threats:"
      ],
      "metadata": {
        "id": "uk6cd8emVqdi"
      }
    },
    {
      "cell_type": "code",
      "source": [
        "df_A_real = df_A.iloc[:, [3, 5, 6, 10, 12]] # List of real threats\n",
        "\n",
        "# tot_answer = real_t.shape[0]*6 # #_students * 5 threats\n",
        "\n",
        "# correct_answers/all_answers\n",
        "df_A_real[df_A_real == 1].count().sum() / df_A_real.count().sum()"
      ],
      "metadata": {
        "id": "3IoBAgRjVuxl"
      },
      "execution_count": null,
      "outputs": []
    },
    {
      "cell_type": "markdown",
      "source": [
        "Group A performance on fake threats:"
      ],
      "metadata": {
        "id": "bSoqxkM0w6dI"
      }
    },
    {
      "cell_type": "code",
      "source": [
        "df_A_fake = df_A.iloc[:, [4, 7, 8, 9, 11]]\n",
        "df_A_fake[df_A_fake == 2].count().sum() / df_A_fake.count().sum()"
      ],
      "metadata": {
        "id": "XORLoudrw61R"
      },
      "execution_count": null,
      "outputs": []
    },
    {
      "cell_type": "markdown",
      "source": [
        "Group B performance on real threats:"
      ],
      "metadata": {
        "id": "ShmGQUOmcXae"
      }
    },
    {
      "cell_type": "code",
      "source": [
        "df_B_real = df_B.iloc[:, [3, 5, 6, 10, 12]] # List of real threats\n",
        "df_B_real[df_B_real == 1].count().sum() / df_B_real.count().sum()"
      ],
      "metadata": {
        "id": "4yoB1tdVcOeU"
      },
      "execution_count": null,
      "outputs": []
    },
    {
      "cell_type": "markdown",
      "source": [
        "Group B performance on fake threats:"
      ],
      "metadata": {
        "id": "h0h2aohacOvf"
      }
    },
    {
      "cell_type": "code",
      "source": [
        "df_B_fake = df_B.iloc[:, [4, 7, 8, 9, 11]]\n",
        "df_B_fake[df_B_fake == 2].count().sum() / df_B_fake.count().sum()"
      ],
      "metadata": {
        "id": "ZGgNJmR6cQbC"
      },
      "execution_count": null,
      "outputs": []
    },
    {
      "cell_type": "markdown",
      "source": [
        "# **Analysis of Perception Questions**"
      ],
      "metadata": {
        "id": "hKJ_saCaQJWI"
      }
    },
    {
      "cell_type": "markdown",
      "source": [
        "**Group A**"
      ],
      "metadata": {
        "id": "SpvXlwcnqoX_"
      }
    },
    {
      "cell_type": "code",
      "source": [
        "# Select relevant columns\n",
        "df1 = df.iloc[:, [0,1,2]].join(df.iloc[:, 13:26])\n",
        "# Rename columns\n",
        "df1.columns.values[0] = \"Group\"\n",
        "df1.columns.values[1] = \"Student_ID\"\n",
        "df1.columns.values[2] = \"Duration\"\n",
        "df1.head()"
      ],
      "metadata": {
        "id": "RJDZ1GYIP_3G"
      },
      "execution_count": null,
      "outputs": []
    },
    {
      "cell_type": "markdown",
      "source": [
        "**Concatinate the relevant columns selcted above with perception questions**"
      ],
      "metadata": {
        "id": "xaReO_9Nqvuc"
      }
    },
    {
      "cell_type": "code",
      "source": [
        "# Group A\n",
        "df_A_part2 = df1[(df1[\"Group\"] == \"Group A\")]\n",
        "df_A_part2 = df_A_part2.iloc[:, 0:10].copy()\n",
        "\n",
        "# Rename columns\n",
        "df_A_part2.columns.values[3] = \"Case description\"\n",
        "df_A_part2.columns.values[4] = \"Sequence diagram\"\n",
        "df_A_part2.columns.values[5] = \"DFD\"\n",
        "df_A_part2.columns.values[6] = \"Threat asumptions\"\n",
        "df_A_part2.columns.values[7] = \"Threat description\"\n",
        "df_A_part2.columns.values[8] = \"Threat category\"\n",
        "df_A_part2.columns.values[9] = \"Affected components\"\n",
        "\n",
        "df_A_part2.head()"
      ],
      "metadata": {
        "id": "xxLvYyylP_5X"
      },
      "execution_count": null,
      "outputs": []
    },
    {
      "cell_type": "code",
      "source": [
        "#Group B\n",
        "df_B_part2 = df1[(df1[\"Group\"] == \"Group B\")]\n",
        "df_B_part2 = df_B_part2.iloc[:, 0:5].copy().join(df_B_part2.iloc[:, 6:10].copy())\n",
        "\n",
        "# Rename columns\n",
        "df_B_part2.columns.values[3] = \"Case description\"\n",
        "df_B_part2.columns.values[4] = \"Sequence diagram\"\n",
        "df_B_part2.columns.values[5] = \"Threat asumptions\"\n",
        "df_B_part2.columns.values[6] = \"Threat description\"\n",
        "df_B_part2.columns.values[7] = \"Threat category\"\n",
        "df_B_part2.columns.values[8] = \"Affected components\"\n",
        "\n",
        "df_B_part2.head()"
      ],
      "metadata": {
        "id": "VcMjKwuCP_70"
      },
      "execution_count": null,
      "outputs": []
    },
    {
      "cell_type": "code",
      "source": [
        "df_A_part2.describe()"
      ],
      "metadata": {
        "id": "KG6Hxx_KQAEg"
      },
      "execution_count": null,
      "outputs": []
    },
    {
      "cell_type": "code",
      "source": [
        "df_B_part2.describe()"
      ],
      "metadata": {
        "id": "cP0DIMEIQ7xO"
      },
      "execution_count": null,
      "outputs": []
    },
    {
      "cell_type": "markdown",
      "source": [
        "## **Perception of Sequence Diagram**"
      ],
      "metadata": {
        "id": "SH2gfhV2cFC-"
      }
    },
    {
      "cell_type": "code",
      "source": [
        "# Perception of Sequence Diagram in Group A and Group B\n",
        "\n",
        "import matplotlib.pyplot as plt\n",
        "import warnings\n",
        "import numpy as np\n",
        "from google.colab import files\n",
        "\n",
        "warnings.filterwarnings(\"ignore\", category=np.VisibleDeprecationWarning) \n",
        "\n",
        "seq_A = df_A_part2[\"Sequence diagram\"]\n",
        "seq_B = df_B_part2[\"Sequence diagram\"]\n",
        "\n",
        "print(seq_A.describe())\n",
        "print(seq_B.describe())\n",
        "\n",
        "box_plot_data=[seq_A, seq_B]\n",
        "\n",
        "fig = plt.figure()\n",
        "plt.boxplot(box_plot_data, patch_artist=True, labels=['Group A','Group B'])\n",
        "plt.title('Perception on the usefulness of Sequence Diagram')\n",
        "\n",
        "fig.savefig('sequence diagram perception.jpg', bbox_inches='tight', dpi=250)\n",
        "plt.show()"
      ],
      "metadata": {
        "id": "e3DnbU-eXQz-"
      },
      "execution_count": null,
      "outputs": []
    },
    {
      "cell_type": "markdown",
      "source": [
        "## **Test of Equivalence (TOST) between Group A and Group B (SeqD)**"
      ],
      "metadata": {
        "id": "3ZFV9qt-RawJ"
      }
    },
    {
      "cell_type": "code",
      "source": [
        "from scipy.stats import mannwhitneyu\n",
        "delta = 0.8\n",
        "p_low = mannwhitneyu(seq_B, [x + delta for x in seq_A], alternative = \"greater\")\n",
        "p_up = mannwhitneyu([x - delta for x in seq_A], seq_B, alternative = \"greater\")\n",
        "p_TOST = max(p_low, p_up)\n",
        "\n",
        "print(p_low)\n",
        "print(p_up)\n",
        "print(p_TOST)"
      ],
      "metadata": {
        "colab": {
          "base_uri": "https://localhost:8080/"
        },
        "id": "cGvek5sjcUQO",
        "outputId": "f99db1fd-f7fe-4f76-af50-4c881c2d1ede"
      },
      "execution_count": null,
      "outputs": [
        {
          "output_type": "stream",
          "name": "stdout",
          "text": [
            "MannwhitneyuResult(statistic=178.0, pvalue=0.9958869500546135)\n",
            "MannwhitneyuResult(statistic=312.0, pvalue=0.5078088583905803)\n",
            "MannwhitneyuResult(statistic=312.0, pvalue=0.5078088583905803)\n"
          ]
        }
      ]
    },
    {
      "cell_type": "markdown",
      "source": [
        "# **Perception of usefulness of DFD and Sequence diagram in Group A only**"
      ],
      "metadata": {
        "id": "fZGW7RDqsQ1o"
      }
    },
    {
      "cell_type": "markdown",
      "source": [
        "Scatter plot"
      ],
      "metadata": {
        "id": "V-pZqQEhslAa"
      }
    },
    {
      "cell_type": "code",
      "source": [
        "import numpy as np\n",
        "import matplotlib.pyplot as plt\n",
        "from matplotlib.pyplot import MultipleLocator\n",
        "\n",
        "scatterplot_data = np.zeros((5, 5), dtype=int)\n",
        "[rows, cols] = scatterplot_data.shape\n",
        "\n",
        "for x, y in zip(seq_A, dfd_A):\n",
        "  scatterplot_data[(int)(x-1)][(int)(y-1)] += 1\n",
        "\n",
        "x = []\n",
        "y = []\n",
        "area = []\n",
        "count = []\n",
        "\n",
        "for i in range(rows):\n",
        "  for j in range(cols):\n",
        "    if (scatterplot_data[i, j]):\n",
        "      x.append(i+1)\n",
        "      y.append(j+1)\n",
        "      count.append(scatterplot_data[i, j])\n",
        "      area.append(scatterplot_data[i, j]*100)\n",
        "\n",
        "# print(x)\n",
        "# print(y)\n",
        "# print(count)\n",
        "# print(area)\n",
        "\n",
        "# print(scatterplot_data)\n",
        "\n",
        "fig = plt.figure()\n",
        "\n",
        "scatter = plt.scatter(x, y, s=area, c=\"blue\", alpha=0.2)\n",
        "\n",
        "for i, txt in enumerate(count):\n",
        "  plt.annotate(txt, (x[i], y[i]), color='blue')\n",
        "\n",
        "kw = dict(prop=\"sizes\", num=2, color=\"blue\", alpha=0.2, fmt=\"{x:.0f}\", func=lambda s: s/100)\n",
        "plt.legend(*scatter.legend_elements(**kw), loc=\"lower right\", title=\"Numbers\", labelspacing=1.5, borderpad=0.8)\n",
        "\n",
        "# handles, labels = scatter.legend_elements(prop=\"sizes\", alpha=0.2, color=\"blue\")\n",
        "# plt.legend(handles, labels, loc=\"lower right\", title=\"Numbers\", labelspacing=1.5)\n",
        "\n",
        "x = MultipleLocator(1)\n",
        "y = MultipleLocator(1)\n",
        "ax = plt.gca()\n",
        "ax.xaxis.set_major_locator(x)\n",
        "ax.yaxis.set_major_locator(y)\n",
        "\n",
        "plt.title('Perception on the usefulness of Sequence Diagram and DFD in Group A')\n",
        "plt.xlabel('Sequence Diagram')\n",
        "plt.ylabel('DFD')\n",
        "\n",
        "fig.savefig('sequence diagram and DFD perception.jpg', bbox_inches='tight', dpi=250)\n",
        "files.download('sequence diagram and DFD perception.jpg')\n",
        "\n",
        "plt.show()"
      ],
      "metadata": {
        "id": "c-zsYEKgnhPJ"
      },
      "execution_count": null,
      "outputs": []
    },
    {
      "cell_type": "markdown",
      "source": [
        "Box plot"
      ],
      "metadata": {
        "id": "v1ESOTHFsn_1"
      }
    },
    {
      "cell_type": "code",
      "source": [
        "# Perception of Sequence Diagram and DFD in Group A\n",
        "\n",
        "import matplotlib.pyplot as plt\n",
        "import warnings\n",
        "import numpy as np\n",
        "from google.colab import files\n",
        "\n",
        "warnings.filterwarnings(\"ignore\", category=np.VisibleDeprecationWarning) \n",
        "\n",
        "box_plot_data=[seq_A, dfd_A]\n",
        "\n",
        "fig = plt.figure()\n",
        "plt.boxplot(box_plot_data, patch_artist=True, labels=['Sequence Diagram','DFD'])\n",
        "plt.title('Perception on the usefulness in Group A')\n",
        "\n",
        "fig.savefig('sequence diagram and DFD perception-boxplot.jpg', bbox_inches='tight', dpi=250)\n",
        "files.download('sequence diagram and DFD perception-boxplot.jpg')\n",
        "plt.show()"
      ],
      "metadata": {
        "id": "k1wUQeXo2Pb2"
      },
      "execution_count": null,
      "outputs": []
    },
    {
      "cell_type": "markdown",
      "source": [
        "# **Test of Equivalence with Mann Whitney U**"
      ],
      "metadata": {
        "id": "o3YLBnEkDwAH"
      }
    },
    {
      "cell_type": "markdown",
      "source": [
        "**For Performance**"
      ],
      "metadata": {
        "id": "b54zaXq_t5go"
      }
    },
    {
      "cell_type": "code",
      "source": [
        "#TOST for TP only \n",
        "\n",
        "# Set equivalence bounds and delta\n",
        "min_val = 0\n",
        "max_val = 5\n",
        "delta = 1\n",
        "\n",
        "print(\"This is the original data frame\", TP_list_A)\n",
        "\n",
        "#create new data frame with x-delta\n",
        "xd = [x - delta for x in TP_list_A]\n",
        "print(\"This is the data frame (x - delta)\", xd)\n",
        "\n",
        "\n",
        "newxd = []\n",
        "\n",
        "for i in xd:\n",
        "  if i <= min_val:\n",
        "    newxd.append(min_val)\n",
        "    \n",
        "  elif i >= max_val:\n",
        "    newxd.append(max_val)\n",
        "    \n",
        "  else:\n",
        "    newxd.append(i)\n",
        "print(\"This is the data frame (x - delta) and min max applied\", newxd)\n",
        "\n",
        "\n",
        "#create new data frame with x + delta\n",
        "\n",
        "xd1 = [x + delta for x in TP_list_A]\n",
        "print(\"This is the data frame (x + delta)\", xd1)\n",
        "newxd1 = []\n",
        "\n",
        "for i in xd1:\n",
        "  if i <= min_val:\n",
        "    newxd1.append(min_val)\n",
        "    \n",
        "  elif i >= max_val:\n",
        "    newxd1.append(max_val)\n",
        "    \n",
        "  else:\n",
        "    newxd1.append(i)\n",
        "print(\"This is the data frame (x + delta) and min max applied\", newxd1) \n",
        "\n",
        "\n",
        "#Test for equivalence\n",
        "p_low = mannwhitneyu(newxd, TP_list_B, alternative = \"less\")\n",
        "p_up = mannwhitneyu(TP_list_B, newxd1,  alternative = \"less\")\n",
        "p_TOST = max(p_low.pvalue, p_up.pvalue)\n",
        "\n",
        "print(p_low)\n",
        "print(p_up)\n",
        "print(p_TOST)"
      ],
      "metadata": {
        "id": "boNcGcZBLwXe"
      },
      "execution_count": null,
      "outputs": []
    },
    {
      "cell_type": "code",
      "source": [
        "#TOST FOR TN\n",
        "\n",
        "# Set equivalence bounds and delta\n",
        "min_val = 0\n",
        "max_val = 5\n",
        "delta = 1\n",
        "\n",
        "print(\"This is the original data frame\", TN_list_A)\n",
        "#create new data frame with x-delta\n",
        "xd = [x - delta for x in TN_list_A]\n",
        "print(\"This is the data frame (x - delta)\", xd)\n",
        "# print(type(xd))\n",
        "\n",
        "newxd = []\n",
        "\n",
        "for i in xd:\n",
        "  if i <= min_val:\n",
        "    newxd.append(min_val)\n",
        "    \n",
        "  elif i >= max_val:\n",
        "    newxd.append(max_val)\n",
        "    \n",
        "  else:\n",
        "    newxd.append(i)\n",
        "print(\"This is the data frame (x - delta) and min max applied\", newxd) #with - delta\n",
        "\n",
        "\n",
        "#create new data frame with x + delta\n",
        "\n",
        "xd1 = [x + delta for x in TN_list_A]\n",
        "print(\"This is the data frame (x + delta)\", xd1)\n",
        "newxd1 = []\n",
        "\n",
        "for i in xd1:\n",
        "  if i <= min_val:\n",
        "    newxd1.append(min_val)\n",
        "    \n",
        "  elif i >= max_val:\n",
        "    newxd1.append(max_val)\n",
        "    \n",
        "  else:\n",
        "    newxd1.append(i)\n",
        "print(\"This is the data frame (x + delta) and min max applied\", newxd1) #with + delta\n",
        "\n",
        "\n",
        "#Test for equivalence\n",
        "p_low = mannwhitneyu(newxd, TN_list_B, alternative = \"less\")\n",
        "p_up = mannwhitneyu(TN_list_B, newxd1, alternative = \"less\")\n",
        "p_TOST = max(p_low.pvalue, p_up.pvalue)\n",
        "\n",
        "print(p_low)\n",
        "print(p_up)\n",
        "print(p_TOST)"
      ],
      "metadata": {
        "id": "fjrwRJ_Q6Bpa"
      },
      "execution_count": null,
      "outputs": []
    },
    {
      "cell_type": "code",
      "source": [
        "#TOST FOR TP_TN\n",
        "# Set equivalence bounds and delta\n",
        "min_val = 0\n",
        "max_val = 10\n",
        "delta = 1\n",
        "\n",
        "print(\"This is the original data frame\", sum_TP_TN_list_A)\n",
        "#create new data frame with x-delta\n",
        "xd = [x - delta for x in sum_TP_TN_list_A]\n",
        "print(\"This is the data frame (x - delta)\", xd)\n",
        "# print(type(xd))\n",
        "\n",
        "newxd = []\n",
        "\n",
        "for i in xd:\n",
        "  if i <= min_val:\n",
        "    newxd.append(min_val)\n",
        "    \n",
        "  elif i >= max_val:\n",
        "    newxd.append(max_val)\n",
        "    \n",
        "  else:\n",
        "    newxd.append(i)\n",
        "print(\"This is the data frame (x - delta) and min max applied\", newxd) #with - delta\n",
        "\n",
        "\n",
        "#create new data frame with x + delta\n",
        "\n",
        "xd1 = [x + delta for x in sum_TP_TN_list_A]\n",
        "print(\"This is the data frame (x + delta)\", xd1)\n",
        "newxd1 = []\n",
        "\n",
        "for i in xd1:\n",
        "  if i <= min_val:\n",
        "    newxd1.append(min_val)\n",
        "    \n",
        "  elif i >= max_val:\n",
        "    newxd1.append(max_val)\n",
        "    \n",
        "  else:\n",
        "    newxd1.append(i)\n",
        "print(\"This is the data frame (x + delta) and min max applied\", newxd1) #with + delta\n",
        "\n",
        "\n",
        "#Test for equivalence\n",
        "p_low = mannwhitneyu(newxd, sum_TP_TN_list_B, alternative = \"less\")\n",
        "p_up = mannwhitneyu(sum_TP_TN_list_B, newxd1,  alternative = \"less\")\n",
        "p_TOST = max(p_low.pvalue, p_up.pvalue)\n",
        "\n",
        "print(p_low)\n",
        "print(p_up)\n",
        "print(p_TOST)"
      ],
      "metadata": {
        "id": "9DpI8SAX6HKp"
      },
      "execution_count": null,
      "outputs": []
    },
    {
      "cell_type": "markdown",
      "source": [
        "Tost for perceived usefulness of sequence diagram. Group A vs Group B"
      ],
      "metadata": {
        "id": "gG5xG0uet-bp"
      }
    },
    {
      "cell_type": "code",
      "source": [
        "#TOST FOR Sequence Diagram of group A and B\n",
        "# Set equivalence bounds and delta\n",
        "min_val = 1\n",
        "max_val = 5\n",
        "delta = 1\n",
        "\n",
        "print(\"This is the original data frame\", seq_A)\n",
        "#create new data frame with x-delta\n",
        "xd = [x - delta for x in seq_A]\n",
        "print(\"This is the data frame (x - delta)\", xd)\n",
        "# print(type(xd))\n",
        "\n",
        "newxd = []\n",
        "\n",
        "for i in xd:\n",
        "  if i <= min_val:\n",
        "    newxd.append(min_val)\n",
        "    \n",
        "  elif i >= max_val:\n",
        "    newxd.append(max_val)\n",
        "    \n",
        "  else:\n",
        "    newxd.append(i)\n",
        "print(\"This is the data frame (x - delta) and min max applied\", newxd) #with - delta\n",
        "\n",
        "\n",
        "#create new data frame with x + delta\n",
        "\n",
        "xd1 = [x + delta for x in seq_A]\n",
        "print(\"This is the data frame (x + delta)\", xd1)\n",
        "newxd1 = []\n",
        "\n",
        "for i in xd1:\n",
        "  if i <= min_val:\n",
        "    newxd1.append(min_val)\n",
        "    \n",
        "  elif i >= max_val:\n",
        "    newxd1.append(max_val)\n",
        "    \n",
        "  else:\n",
        "    newxd1.append(i)\n",
        "print(\"This is the data frame (x + delta) and min max applied\", newxd1) #with + delta\n",
        "\n",
        "\n",
        "#Test for equivalence\n",
        "p_low = mannwhitneyu(newxd, seq_B, alternative = \"less\")\n",
        "p_up = mannwhitneyu(seq_B, newxd1,  alternative = \"less\")\n",
        "p_TOST = max(p_low.pvalue, p_up.pvalue)\n",
        "\n",
        "print(p_low)\n",
        "print(p_up)\n",
        "print(p_TOST)"
      ],
      "metadata": {
        "id": "GnaAq9NQNX4X"
      },
      "execution_count": null,
      "outputs": []
    },
    {
      "cell_type": "markdown",
      "source": [
        "# **Test of difference with Mann Whitney U**"
      ],
      "metadata": {
        "id": "E52vOKdgugna"
      }
    },
    {
      "cell_type": "markdown",
      "source": [
        "**For performance**"
      ],
      "metadata": {
        "id": "QiVsbtozunr6"
      }
    },
    {
      "cell_type": "code",
      "source": [
        "from scipy.stats import mannwhitneyu\n",
        "from scipy.stats import wilcoxon\n",
        "\n",
        "p_mwu1 = mannwhitneyu(TP_list_A, TP_list_B, alternative = \"greater\")\n",
        "p_mwu2 = mannwhitneyu(TN_list_A, TN_list_B, alternative = \"greater\")\n",
        "p_mwu3 = mannwhitneyu(TP_TN_list_A, TP_TN_list_B, alternative = \"greater\")\n",
        "\n",
        "print(p_mwu1)\n",
        "print(p_mwu2)\n",
        "print(p_mwu3)"
      ],
      "metadata": {
        "id": "aiiZnqE_OP8c"
      },
      "execution_count": null,
      "outputs": []
    },
    {
      "cell_type": "markdown",
      "source": [
        "For sequence diagram only. Group A and B"
      ],
      "metadata": {
        "id": "QsuaStO3vPwf"
      }
    },
    {
      "cell_type": "code",
      "source": [
        "from scipy.stats import mannwhitneyu\n",
        "from scipy.stats import wilcoxon\n",
        "\n",
        "p_mwu = mannwhitneyu(seq_A, seq_B, alternative = \"two sided\")\n",
        "\n",
        "\n",
        "print(p_mwu)"
      ],
      "metadata": {
        "id": "fmunzZFBzI0P"
      },
      "execution_count": null,
      "outputs": []
    },
    {
      "cell_type": "markdown",
      "source": [
        "# **T-Test paired sample for perception of DFD vs sequence diagram in group A only**"
      ],
      "metadata": {
        "id": "LUhd7OaSviwV"
      }
    },
    {
      "cell_type": "code",
      "source": [
        "#t-test paired sample, test of difference for perception of DFD vs SeqD in group A only\n",
        "\n",
        "import scipy.stats as stats\n",
        "stats.ttest_rel(dfd_A, seq_A, alternative='greater')"
      ],
      "metadata": {
        "id": "Zfp2L_4vCPvj"
      },
      "execution_count": null,
      "outputs": []
    }
  ]
}